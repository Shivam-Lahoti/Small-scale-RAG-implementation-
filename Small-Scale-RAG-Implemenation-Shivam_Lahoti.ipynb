{
 "cells": [
  {
   "cell_type": "markdown",
   "id": "fff86926-d323-45e8-835b-83fe80195fc8",
   "metadata": {
    "id": "fff86926-d323-45e8-835b-83fe80195fc8"
   },
   "source": [
    "## Assignment-2 Shivam Lahoti"
   ]
  },
  {
   "cell_type": "markdown",
   "id": "e7ccf676-565b-4744-ab4f-e1b384b4fe72",
   "metadata": {
    "id": "e7ccf676-565b-4744-ab4f-e1b384b4fe72"
   },
   "source": [
    "## Part-1"
   ]
  },
  {
   "cell_type": "code",
   "execution_count": 1,
   "id": "pzZCm5ogRE_l",
   "metadata": {
    "colab": {
     "base_uri": "https://localhost:8080/"
    },
    "id": "pzZCm5ogRE_l",
    "outputId": "6a94c025-8b8b-4cd8-f3d5-f1b6c1b3ee40"
   },
   "outputs": [
    {
     "name": "stderr",
     "output_type": "stream",
     "text": [
      "WARNING: Skipping E:\\ANACONDA\\Lib\\site-packages\\~rotobuf-3.20.3-py3.11.egg-info due to invalid metadata entry 'name'\n",
      "ERROR: Could not install packages due to an OSError: [WinError 32] The process cannot access the file because it is being used by another process: 'E:\\\\ANACONDA\\\\Lib\\\\site-packages\\\\google\\\\ai\\\\generativelanguage_v1\\\\services\\\\generative_service\\\\transports\\\\grpc_asyncio.py'\n",
      "Consider using the `--user` option or check the permissions.\n",
      "\n"
     ]
    }
   ],
   "source": [
    "\n",
    "!pip install -q -U google-generativeai"
   ]
  },
  {
   "cell_type": "code",
   "execution_count": 49,
   "id": "c55b1023-f76e-40d3-a76e-0ceb626ae785",
   "metadata": {},
   "outputs": [
    {
     "name": "stdout",
     "output_type": "stream",
     "text": [
      "Collecting gemini\n",
      "  Downloading gemini-0.30.2.tar.gz (1.6 MB)\n",
      "     ---------------------------------------- 0.0/1.6 MB ? eta -:--:--\n",
      "     ---------------------------------------- 0.0/1.6 MB ? eta -:--:--\n",
      "      --------------------------------------- 0.0/1.6 MB 660.6 kB/s eta 0:00:03\n",
      "      --------------------------------------- 0.0/1.6 MB 660.6 kB/s eta 0:00:03\n",
      "      --------------------------------------- 0.0/1.6 MB 660.6 kB/s eta 0:00:03\n",
      "     - -------------------------------------- 0.1/1.6 MB 328.2 kB/s eta 0:00:05\n",
      "     - -------------------------------------- 0.1/1.6 MB 328.2 kB/s eta 0:00:05\n",
      "     -- ------------------------------------- 0.1/1.6 MB 270.5 kB/s eta 0:00:06\n",
      "     -- ------------------------------------- 0.1/1.6 MB 328.2 kB/s eta 0:00:05\n",
      "     ---- ----------------------------------- 0.2/1.6 MB 446.5 kB/s eta 0:00:04\n",
      "     ----- ---------------------------------- 0.2/1.6 MB 509.6 kB/s eta 0:00:03\n",
      "     ----- ---------------------------------- 0.2/1.6 MB 509.6 kB/s eta 0:00:03\n",
      "     ----- ---------------------------------- 0.2/1.6 MB 509.6 kB/s eta 0:00:03\n",
      "     ------ --------------------------------- 0.3/1.6 MB 449.3 kB/s eta 0:00:04\n",
      "     -------- ------------------------------- 0.4/1.6 MB 571.7 kB/s eta 0:00:03\n",
      "     ---------- ----------------------------- 0.4/1.6 MB 640.0 kB/s eta 0:00:02\n",
      "     -------------- ------------------------- 0.6/1.6 MB 864.5 kB/s eta 0:00:02\n",
      "     ----------------- ---------------------- 0.7/1.6 MB 962.6 kB/s eta 0:00:01\n",
      "     ------------------- -------------------- 0.8/1.6 MB 983.4 kB/s eta 0:00:01\n",
      "     ---------------------- ----------------- 0.9/1.6 MB 1.1 MB/s eta 0:00:01\n",
      "     -------------------------- ------------- 1.1/1.6 MB 1.2 MB/s eta 0:00:01\n",
      "     -------------------------------- ------- 1.3/1.6 MB 1.4 MB/s eta 0:00:01\n",
      "     ---------------------------------- ----- 1.4/1.6 MB 1.5 MB/s eta 0:00:01\n",
      "     ---------------------------------------  1.6/1.6 MB 1.6 MB/s eta 0:00:01\n",
      "     ---------------------------------------- 1.6/1.6 MB 1.5 MB/s eta 0:00:00\n",
      "  Preparing metadata (setup.py): started\n",
      "  Preparing metadata (setup.py): finished with status 'done'\n",
      "Requirement already satisfied: numpy>=1.7.1 in e:\\anaconda\\lib\\site-packages (from gemini) (1.26.4)\n",
      "Collecting inheritance>=0.1.3 (from gemini)\n",
      "  Downloading inheritance-0.1.5.tar.gz (27 kB)\n",
      "  Preparing metadata (setup.py): started\n",
      "  Preparing metadata (setup.py): finished with status 'done'\n",
      "Collecting geneimpacts>=0.1.3 (from gemini)\n",
      "  Downloading geneimpacts-0.3.7.tar.gz (40 kB)\n",
      "     ---------------------------------------- 0.0/40.9 kB ? eta -:--:--\n",
      "     ---------------------------------------- 40.9/40.9 kB 1.9 MB/s eta 0:00:00\n",
      "  Preparing metadata (setup.py): started\n",
      "  Preparing metadata (setup.py): finished with status 'done'\n",
      "Collecting cython>=0.22.1 (from gemini)\n",
      "  Downloading Cython-3.0.11-cp311-cp311-win_amd64.whl.metadata (3.2 kB)\n",
      "Requirement already satisfied: sqlalchemy>=1 in e:\\anaconda\\lib\\site-packages (from gemini) (2.0.25)\n",
      "Collecting pysam>=0.6 (from gemini)\n",
      "  Downloading pysam-0.22.1.tar.gz (4.6 MB)\n",
      "     ---------------------------------------- 0.0/4.6 MB ? eta -:--:--\n",
      "     ---------------------------------------- 0.0/4.6 MB ? eta -:--:--\n",
      "     - -------------------------------------- 0.1/4.6 MB 1.2 MB/s eta 0:00:04\n",
      "     - -------------------------------------- 0.2/4.6 MB 1.5 MB/s eta 0:00:04\n",
      "     -- ------------------------------------- 0.3/4.6 MB 1.7 MB/s eta 0:00:03\n",
      "     --- ------------------------------------ 0.5/4.6 MB 1.9 MB/s eta 0:00:03\n",
      "     ------ --------------------------------- 0.7/4.6 MB 2.5 MB/s eta 0:00:02\n",
      "     -------- ------------------------------- 1.0/4.6 MB 3.0 MB/s eta 0:00:02\n",
      "     ----------- ---------------------------- 1.3/4.6 MB 3.5 MB/s eta 0:00:01\n",
      "     -------------- ------------------------- 1.7/4.6 MB 3.9 MB/s eta 0:00:01\n",
      "     ---------------- ----------------------- 1.9/4.6 MB 4.1 MB/s eta 0:00:01\n",
      "     ------------------- -------------------- 2.3/4.6 MB 4.4 MB/s eta 0:00:01\n",
      "     --------------------- ------------------ 2.5/4.6 MB 4.3 MB/s eta 0:00:01\n",
      "     ---------------------- ----------------- 2.7/4.6 MB 4.2 MB/s eta 0:00:01\n",
      "     ---------------------------- ----------- 3.3/4.6 MB 4.8 MB/s eta 0:00:01\n",
      "     -------------------------------- ------- 3.7/4.6 MB 5.2 MB/s eta 0:00:01\n",
      "     ---------------------------------- ----- 4.0/4.6 MB 5.4 MB/s eta 0:00:01\n",
      "     ------------------------------------- -- 4.4/4.6 MB 5.4 MB/s eta 0:00:01\n",
      "     ---------------------------------------- 4.6/4.6 MB 5.4 MB/s eta 0:00:00\n",
      "  Installing build dependencies: started\n",
      "  Installing build dependencies: finished with status 'done'\n",
      "  Getting requirements to build wheel: started\n",
      "  Getting requirements to build wheel: finished with status 'error'\n"
     ]
    },
    {
     "name": "stderr",
     "output_type": "stream",
     "text": [
      "  error: subprocess-exited-with-error\n",
      "  \n",
      "  Getting requirements to build wheel did not run successfully.\n",
      "  exit code: 1\n",
      "  \n",
      "  [40 lines of output]\n",
      "  # pysam: cython is available - using cythonize if necessary\n",
      "  # pysam: htslib mode is shared\n",
      "  # pysam: HTSLIB_CONFIGURE_OPTIONS=None\n",
      "  '.' is not recognized as an internal or external command,\n",
      "  operable program or batch file.\n",
      "  '.' is not recognized as an internal or external command,\n",
      "  operable program or batch file.\n",
      "  # pysam: htslib configure options: None\n",
      "  Traceback (most recent call last):\n",
      "    File \"E:\\ANACONDA\\Lib\\site-packages\\pip\\_vendor\\pyproject_hooks\\_in_process\\_in_process.py\", line 353, in <module>\n",
      "      main()\n",
      "    File \"E:\\ANACONDA\\Lib\\site-packages\\pip\\_vendor\\pyproject_hooks\\_in_process\\_in_process.py\", line 335, in main\n",
      "      json_out['return_val'] = hook(**hook_input['kwargs'])\n",
      "                               ^^^^^^^^^^^^^^^^^^^^^^^^^^^^\n",
      "    File \"E:\\ANACONDA\\Lib\\site-packages\\pip\\_vendor\\pyproject_hooks\\_in_process\\_in_process.py\", line 118, in get_requires_for_build_wheel\n",
      "      return hook(config_settings)\n",
      "             ^^^^^^^^^^^^^^^^^^^^^\n",
      "    File \"C:\\Temp\\pip-build-env-ay9nt0__\\overlay\\Lib\\site-packages\\setuptools\\build_meta.py\", line 332, in get_requires_for_build_wheel\n",
      "      return self._get_build_requires(config_settings, requirements=[])\n",
      "             ^^^^^^^^^^^^^^^^^^^^^^^^^^^^^^^^^^^^^^^^^^^^^^^^^^^^^^^^^^\n",
      "    File \"C:\\Temp\\pip-build-env-ay9nt0__\\overlay\\Lib\\site-packages\\setuptools\\build_meta.py\", line 302, in _get_build_requires\n",
      "      self.run_setup()\n",
      "    File \"C:\\Temp\\pip-build-env-ay9nt0__\\overlay\\Lib\\site-packages\\setuptools\\build_meta.py\", line 503, in run_setup\n",
      "      super().run_setup(setup_script=setup_script)\n",
      "    File \"C:\\Temp\\pip-build-env-ay9nt0__\\overlay\\Lib\\site-packages\\setuptools\\build_meta.py\", line 318, in run_setup\n",
      "      exec(code, locals())\n",
      "    File \"<string>\", line 437, in <module>\n",
      "    File \"<string>\", line 81, in run_make_print_config\n",
      "    File \"E:\\ANACONDA\\Lib\\subprocess.py\", line 466, in check_output\n",
      "      return run(*popenargs, stdout=PIPE, timeout=timeout, check=True,\n",
      "             ^^^^^^^^^^^^^^^^^^^^^^^^^^^^^^^^^^^^^^^^^^^^^^^^^^^^^^^^^\n",
      "    File \"E:\\ANACONDA\\Lib\\subprocess.py\", line 548, in run\n",
      "      with Popen(*popenargs, **kwargs) as process:\n",
      "           ^^^^^^^^^^^^^^^^^^^^^^^^^^^\n",
      "    File \"E:\\ANACONDA\\Lib\\subprocess.py\", line 1026, in __init__\n",
      "      self._execute_child(args, executable, preexec_fn, close_fds,\n",
      "    File \"E:\\ANACONDA\\Lib\\subprocess.py\", line 1538, in _execute_child\n",
      "      hp, ht, pid, tid = _winapi.CreateProcess(executable, args,\n",
      "                         ^^^^^^^^^^^^^^^^^^^^^^^^^^^^^^^^^^^^^^^\n",
      "  FileNotFoundError: [WinError 2] The system cannot find the file specified\n",
      "  [end of output]\n",
      "  \n",
      "  note: This error originates from a subprocess, and is likely not a problem with pip.\n",
      "error: subprocess-exited-with-error\n",
      "\n",
      "Getting requirements to build wheel did not run successfully.\n",
      "exit code: 1\n",
      "\n",
      "See above for output.\n",
      "\n",
      "note: This error originates from a subprocess, and is likely not a problem with pip.\n"
     ]
    }
   ],
   "source": [
    "!pip install gemini"
   ]
  },
  {
   "cell_type": "code",
   "execution_count": 48,
   "id": "sXwkbIHyAk_6",
   "metadata": {
    "id": "sXwkbIHyAk_6"
   },
   "outputs": [
    {
     "ename": "ModuleNotFoundError",
     "evalue": "No module named 'gemini'",
     "output_type": "error",
     "traceback": [
      "\u001b[1;31m---------------------------------------------------------------------------\u001b[0m",
      "\u001b[1;31mModuleNotFoundError\u001b[0m                       Traceback (most recent call last)",
      "Cell \u001b[1;32mIn[48], line 4\u001b[0m\n\u001b[0;32m      2\u001b[0m \u001b[38;5;28;01mimport\u001b[39;00m \u001b[38;5;21;01mjson\u001b[39;00m\n\u001b[0;32m      3\u001b[0m \u001b[38;5;28;01mimport\u001b[39;00m \u001b[38;5;21;01mrequests\u001b[39;00m\n\u001b[1;32m----> 4\u001b[0m \u001b[38;5;28;01mimport\u001b[39;00m \u001b[38;5;21;01mgemini\u001b[39;00m\n",
      "\u001b[1;31mModuleNotFoundError\u001b[0m: No module named 'gemini'"
     ]
    }
   ],
   "source": [
    "import google.generativeai as genai\n",
    "import json\n",
    "import requests\n",
    "import gemini"
   ]
  },
  {
   "cell_type": "code",
   "execution_count": 38,
   "id": "9da5a04d-86e7-4ded-bb67-6ad797f681e0",
   "metadata": {
    "id": "9da5a04d-86e7-4ded-bb67-6ad797f681e0"
   },
   "outputs": [],
   "source": [
    "\n",
    "events_2024 = {\n",
    "    \"Olympic Games\": {\n",
    "        \"location\": \"Paris, France\",\n",
    "        \"start_date\": \"July 26, 2024\",\n",
    "        \"end_date\": \"August 11, 2024\",\n",
    "        \"description\": \"The 2024 Summer Olympics, officially known as the Games of the XXXIII Olympiad, will take place in Paris, marking the third time the city has hosted the event.\",\n",
    "        \"key_highlights\": [\"New sports added\", \"Sustainability focus\", \"High-profile athletes\", \"New records expected\"],\n",
    "        \"citation\": \"https://olympics.com/en/olympic-games/paris-2024\"\n",
    "    },\n",
    "    \"U.S. Presidential Election\": {\n",
    "        \"location\": \"United States\",\n",
    "        \"date\": \"November 5, 2024\",\n",
    "        \"description\": \"The 2024 United States presidential election will be the 60th quadrennial presidential election. Voters will choose the electors of the Electoral College, who in turn will elect the next president and vice president of the United States.\",\n",
    "        \"key_highlights\": [\"High voter turnout expected\", \"Critical swing states\", \"Major political debates\", \"Global implications\"],\n",
    "        \"citation\": \"https://www.fec.gov/introduction-campaign-finance/election-and-voting-information/presidential-elections-2024/\"\n",
    "    },\n",
    "    \"NASA Artemis III Mission\": {\n",
    "        \"location\": \"Moon\",\n",
    "        \"date\": \"December 2024 (estimated)\",\n",
    "        \"description\": \"Artemis III is planned to be NASA's first crewed mission to land on the Moon since Apollo 17 in 1972. It will aim to land 'the first woman and the next man' on the lunar south pole.\",\n",
    "        \"key_highlights\": [\"First lunar landing since 1972\", \"Diverse crew\", \"Technological advancements\", \"Space exploration milestone\"],\n",
    "        \"citation\": \"https://www.nasa.gov/specials/artemis/\"\n",
    "    },\n",
    "    \"EU Digital Services Act Enforcement\": {\n",
    "        \"location\": \"European Union\",\n",
    "        \"date\": \"February 17, 2024\",\n",
    "        \"description\": \"The EU's Digital Services Act (DSA) will officially come into force in 2024, aiming to create a safer digital space for users and protect their fundamental rights.\",\n",
    "        \"key_highlights\": [\"Enhanced user privacy\", \"Big tech regulation\", \"Content moderation rules\", \"Digital platform accountability\"],\n",
    "        \"citation\": \"https://digital-strategy.ec.europa.eu/en/policies/digital-services-act\"\n",
    "    },\n",
    "    \"Formula 1 Las Vegas Grand Prix\": {\n",
    "        \"location\": \"Las Vegas, Nevada, USA\",\n",
    "        \"date\": \"November 23, 2024\",\n",
    "        \"description\": \"The Formula 1 Las Vegas Grand Prix returns in 2024 with a high-octane race set on the iconic Las Vegas Strip, promising to be one of the most exciting races of the season.\",\n",
    "        \"key_highlights\": [\"Night race on the Strip\", \"Major teams competing\", \"High attendance expected\", \"New race format\"],\n",
    "        \"citation\": \"https://www.formula1.com/en/racing/2024/Las_Vegas.html\"\n",
    "    }\n",
    "}\n"
   ]
  },
  {
   "cell_type": "code",
   "execution_count": 28,
   "id": "j5N9R6kf_CVl",
   "metadata": {
    "id": "j5N9R6kf_CVl"
   },
   "outputs": [],
   "source": [
    "def retrieve_from_knowledge_base(query, knowledge_base):\n",
    "    results = {}\n",
    "\n",
    "    # Search through the knowledge base\n",
    "    for language, details in knowledge_base.items():\n",
    "        if query.lower() in language.lower() or any(\n",
    "            isinstance(value, str) and query.lower() in value.lower() for value in details.values()\n",
    "        ):\n",
    "            results[language] = details\n",
    "\n",
    "    return results"
   ]
  },
  {
   "cell_type": "code",
   "execution_count": 29,
   "id": "dd6af6d2-ccdf-448f-9603-4e1bec355248",
   "metadata": {
    "id": "dd6af6d2-ccdf-448f-9603-4e1bec355248"
   },
   "outputs": [],
   "source": [
    "def enrich_response(user_query, retrieved_knowledge):\n",
    "    if not retrieved_knowledge:\n",
    "        return f\"Sorry, I couldn't find any information related to '{user_query}' in the knowledge base.\"\n",
    "\n",
    "    enriched_text = f\"Here is some information related to '{user_query}':\\n\\n\"\n",
    "\n",
    "    for language, details in retrieved_knowledge.items():\n",
    "        enriched_text += f\"Programming Language: {language}\\n\"\n",
    "        enriched_text += f\"Creator: {details['creator']}\\n\"\n",
    "        enriched_text += f\"Year: {details['year']}\\n\"\n",
    "        enriched_text += f\"Description: {details['description']}\\n\"\n",
    "        enriched_text += f\"Applications: {', '.join(details['applications'])}\\n\"\n",
    "        enriched_text += f\"Key Features: {', '.join(details['key_features'])}\\n\\n\"\n",
    "\n",
    "    return enriched_text"
   ]
  },
  {
   "cell_type": "code",
   "execution_count": 55,
   "id": "BF6xzbUT6bpK",
   "metadata": {
    "id": "BF6xzbUT6bpK"
   },
   "outputs": [],
   "source": [
    "def call_openai_llm(enriched_prompt):\n",
    "    api_key=\"Gemini_API_key\" \n",
    "    try:\n",
    "        genai.configure(api_key=api_key)\n",
    "        model=genai.GenerativeModel(\"gemini-1.5-flash\")\n",
    "        response = model.generate_content(\n",
    "        enriched_prompt\n",
    "        )\n",
    "        return response.text\n",
    "\n",
    "    \n",
    "        \n",
    "    except Exception as e:\n",
    "        return f\"Error occurred: {str(e)}\""
   ]
  },
  {
   "cell_type": "code",
   "execution_count": 56,
   "id": "3fa173bc-3e58-4b51-bd79-ca28a8a3b777",
   "metadata": {
    "id": "3fa173bc-3e58-4b51-bd79-ca28a8a3b777"
   },
   "outputs": [],
   "source": [
    "def rag_pipeline(user_query, knowledge_base):\n",
    "    #Retrieve information from the knowledge base\n",
    "    retrieved_knowledge = retrieve_from_knowledge_base(user_query, knowledge_base)\n",
    "\n",
    "    #Enrich the response with the retrieved information\n",
    "    enriched_prompt = enrich_response(user_query, retrieved_knowledge)\n",
    "\n",
    "    # Print the enriched response\n",
    "    \n",
    "    print(\"Enriched Prompt:\")\n",
    "    print(enriched_prompt)\n",
    "\n",
    "    # Get LLM response \n",
    "    llm_response = call_openai_llm(enriched_prompt)\n",
    "\n",
    "    # Print the LLM response\n",
    "    print(\"\\nLLM Response:\")\n",
    "    print(llm_response)\n",
    "\n",
    "    return llm_response"
   ]
  },
  {
   "cell_type": "code",
   "execution_count": 57,
   "id": "2018a67e-506e-40ad-a4ff-fef61e4ab9b7",
   "metadata": {
    "colab": {
     "base_uri": "https://localhost:8080/",
     "height": 1000
    },
    "id": "2018a67e-506e-40ad-a4ff-fef61e4ab9b7",
    "outputId": "97b89f10-5826-463c-876d-1b3520f8aa95"
   },
   "outputs": [
    {
     "name": "stdin",
     "output_type": "stream",
     "text": [
      "Enter event  Formula 1\n"
     ]
    },
    {
     "name": "stdout",
     "output_type": "stream",
     "text": [
      "Enriched Prompt:\n",
      "Sorry, I couldn't find any information related to 'Formula 1' in the knowledge base.\n",
      "\n",
      "LLM Response:\n",
      "Please provide me with more context or specific questions about Formula 1. I can then provide you with information. \n",
      "\n",
      "For example, you could ask:\n",
      "\n",
      "* **\"What are the rules of Formula 1?\"**\n",
      "* **\"Who are the top drivers in Formula 1?\"**\n",
      "* **\"What are the different teams in Formula 1?\"**\n",
      "* **\"Where is the next Formula 1 race?\"**\n",
      "\n",
      "The more specific your question, the better I can understand your request and provide you with relevant information. \n",
      "\n"
     ]
    }
   ],
   "source": [
    "user_input = input(\"Enter event \")\n",
    "response = rag_pipeline(user_input, programming_languages)\n",
    "\n"
   ]
  },
  {
   "cell_type": "markdown",
   "id": "22f88ff9-0560-4932-b172-3f8e04a966a6",
   "metadata": {
    "id": "22f88ff9-0560-4932-b172-3f8e04a966a6"
   },
   "source": [
    "## Part-2"
   ]
  },
  {
   "cell_type": "code",
   "execution_count": 12,
   "id": "7081d679-e39e-4fd9-9b1f-4ae52aef78bc",
   "metadata": {
    "id": "7081d679-e39e-4fd9-9b1f-4ae52aef78bc"
   },
   "outputs": [],
   "source": [
    "import tensorflow as tf\n",
    "import pandas as pd\n",
    "import numpy as np\n",
    "from sklearn.model_selection import train_test_split\n",
    "from tensorflow.keras import Sequential\n",
    "from tensorflow.keras.layers import Dense\n",
    "from sklearn.preprocessing import LabelEncoder\n",
    "import matplotlib.pyplot as plt"
   ]
  },
  {
   "cell_type": "code",
   "execution_count": 13,
   "id": "7d805508-059b-4405-9151-1fb0b59c8910",
   "metadata": {
    "id": "7d805508-059b-4405-9151-1fb0b59c8910"
   },
   "outputs": [],
   "source": [
    "#Loading data\n",
    "data =  pd.read_excel('loan.xlsx')"
   ]
  },
  {
   "cell_type": "code",
   "execution_count": 14,
   "id": "dec67c7c-21ac-4a16-96b6-1b5d78e934ff",
   "metadata": {
    "id": "dec67c7c-21ac-4a16-96b6-1b5d78e934ff"
   },
   "outputs": [],
   "source": [
    "df= pd.DataFrame(data)"
   ]
  },
  {
   "cell_type": "code",
   "execution_count": 15,
   "id": "912553fc-e8f7-401f-863b-acd50623acd2",
   "metadata": {
    "colab": {
     "base_uri": "https://localhost:8080/"
    },
    "id": "912553fc-e8f7-401f-863b-acd50623acd2",
    "outputId": "a08a15de-8582-43d4-ad24-9b0f7f46999d"
   },
   "outputs": [
    {
     "name": "stdout",
     "output_type": "stream",
     "text": [
      "  Sex        Age  Time_at_address Res_status  Telephone Occupation Job_status  \\\n",
      "0   M  50.750000            0.585      owner      given  unemploye  unemploye   \n",
      "1   M  19.670000           10.000       rent  not_given   labourer  governmen   \n",
      "2   F  52.830002           15.000      owner      given  creative_  private_s   \n",
      "3   M  22.670000            2.540       rent  not_given  creative_  governmen   \n",
      "4   M  29.250000           13.000      owner      given     driver  governmen   \n",
      "\n",
      "   Time_employed  Time_bank Liab_ref Acc_ref  Home_Expn  Balance Decision  \n",
      "0              0          0        f   given        145        0   reject  \n",
      "1              0          0        t   given        140        0   reject  \n",
      "2              5         14        f   given          0     2200   accept  \n",
      "3              2          0        f   given          0        0   accept  \n",
      "4              0          0        f   given        228        0   reject  \n"
     ]
    }
   ],
   "source": [
    "print(df.head())"
   ]
  },
  {
   "cell_type": "code",
   "execution_count": 16,
   "id": "0229dd6d-a096-496f-b162-938487d3aa17",
   "metadata": {
    "colab": {
     "base_uri": "https://localhost:8080/"
    },
    "id": "0229dd6d-a096-496f-b162-938487d3aa17",
    "outputId": "a5c103b5-3a0d-426a-a463-9f637dc0c715"
   },
   "outputs": [
    {
     "name": "stdout",
     "output_type": "stream",
     "text": [
      "Sex                0\n",
      "Age                0\n",
      "Time_at_address    0\n",
      "Res_status         0\n",
      "Telephone          0\n",
      "Occupation         0\n",
      "Job_status         0\n",
      "Time_employed      0\n",
      "Time_bank          0\n",
      "Liab_ref           0\n",
      "Acc_ref            0\n",
      "Home_Expn          0\n",
      "Balance            0\n",
      "Decision           0\n",
      "dtype: int64\n"
     ]
    }
   ],
   "source": [
    "#Data cleaning\n",
    "print(df.isnull().sum())"
   ]
  },
  {
   "cell_type": "code",
   "execution_count": 17,
   "id": "d016df16-4a8d-4399-bfe8-c7a0d84978ef",
   "metadata": {
    "id": "d016df16-4a8d-4399-bfe8-c7a0d84978ef"
   },
   "outputs": [],
   "source": [
    "col_mean= df['Home_Expn'][df['Home_Expn']!=0].mean()\n",
    "df['Home_Expn']= df['Home_Expn'].replace(0,col_mean)"
   ]
  },
  {
   "cell_type": "code",
   "execution_count": 18,
   "id": "eaa2eb36-92d1-4ce2-bc67-c41079a66d23",
   "metadata": {
    "colab": {
     "base_uri": "https://localhost:8080/"
    },
    "id": "eaa2eb36-92d1-4ce2-bc67-c41079a66d23",
    "outputId": "4b471a1d-8f2c-47fb-e299-523799791e61"
   },
   "outputs": [
    {
     "name": "stdout",
     "output_type": "stream",
     "text": [
      "    Sex        Age  Time_at_address Res_status  Telephone Occupation  \\\n",
      "0     M  50.750000            0.585      owner      given  unemploye   \n",
      "1     M  19.670000           10.000       rent  not_given   labourer   \n",
      "2     F  52.830002           15.000      owner      given  creative_   \n",
      "3     M  22.670000            2.540       rent  not_given  creative_   \n",
      "4     M  29.250000           13.000      owner      given     driver   \n",
      "..   ..        ...              ...        ...        ...        ...   \n",
      "424   M  34.169998            2.750      owner      given  guard_etc   \n",
      "425   F  22.250000            1.250       rent  not_given  unemploye   \n",
      "426   M  23.330000            1.500      owner      given  creative_   \n",
      "427   M  21.000000            4.790       rent  not_given  productio   \n",
      "428   M  27.750000            1.290      owner      given   labourer   \n",
      "\n",
      "    Job_status  Time_employed  Time_bank Liab_ref    Acc_ref  Home_Expn  \\\n",
      "0    unemploye              0          0        f      given        145   \n",
      "1    governmen              0          0        t      given        140   \n",
      "2    private_s              5         14        f      given        216   \n",
      "3    governmen              2          0        f      given        216   \n",
      "4    governmen              0          0        f      given        228   \n",
      "..         ...            ...        ...      ...        ...        ...   \n",
      "424  self_empl              2          0        t      given        232   \n",
      "425  unemploye              3          0        f      given        280   \n",
      "426  governmen              1          0        f      given        422   \n",
      "427  private_s              2          1        t      given         80   \n",
      "428  governmen              0          0        t  oth_inst_        140   \n",
      "\n",
      "     Balance Decision  \n",
      "0          0   reject  \n",
      "1          0   reject  \n",
      "2       2200   accept  \n",
      "3          0   accept  \n",
      "4          0   reject  \n",
      "..       ...      ...  \n",
      "424      200   reject  \n",
      "425        0   reject  \n",
      "426      200   accept  \n",
      "427      300   accept  \n",
      "428        0   reject  \n",
      "\n",
      "[429 rows x 14 columns]\n"
     ]
    }
   ],
   "source": [
    "print(df)"
   ]
  },
  {
   "cell_type": "code",
   "execution_count": 19,
   "id": "245dbe9f-af9e-45df-bb94-f744d59db5c2",
   "metadata": {
    "id": "245dbe9f-af9e-45df-bb94-f744d59db5c2"
   },
   "outputs": [],
   "source": [
    "le= LabelEncoder()\n",
    "columns=['Sex','Res_status','Telephone','Occupation','Job_status','Liab_ref','Acc_ref','Decision']\n",
    "for col in columns:\n",
    "    df[col]= le.fit_transform(df[col])"
   ]
  },
  {
   "cell_type": "code",
   "execution_count": 20,
   "id": "b6ac8563-5913-4371-8e82-6ab17f70d922",
   "metadata": {
    "id": "b6ac8563-5913-4371-8e82-6ab17f70d922"
   },
   "outputs": [],
   "source": [
    "X = df.drop(columns=['Decision'])\n",
    "y = df['Decision']"
   ]
  },
  {
   "cell_type": "code",
   "execution_count": 21,
   "id": "009459e7-726e-4304-a5bb-58d4d2bdd9d1",
   "metadata": {
    "id": "009459e7-726e-4304-a5bb-58d4d2bdd9d1"
   },
   "outputs": [],
   "source": [
    "#Splitting data set\n",
    "X_train, X_test, y_train, y_test = train_test_split(X, y, test_size=0.2, random_state=42)"
   ]
  },
  {
   "cell_type": "code",
   "execution_count": 22,
   "id": "ea1e3f1c-97b8-432e-9563-db3fd1df1f51",
   "metadata": {
    "colab": {
     "base_uri": "https://localhost:8080/",
     "height": 313
    },
    "id": "ea1e3f1c-97b8-432e-9563-db3fd1df1f51",
    "outputId": "134f1ad5-1aa6-4d97-e7f7-f8ffc1b81342"
   },
   "outputs": [
    {
     "name": "stderr",
     "output_type": "stream",
     "text": [
      "E:\\ANACONDA\\Lib\\site-packages\\keras\\src\\layers\\core\\dense.py:87: UserWarning: Do not pass an `input_shape`/`input_dim` argument to a layer. When using Sequential models, prefer using an `Input(shape)` object as the first layer in the model instead.\n",
      "  super().__init__(activity_regularizer=activity_regularizer, **kwargs)\n"
     ]
    },
    {
     "data": {
      "text/html": [
       "<pre style=\"white-space:pre;overflow-x:auto;line-height:normal;font-family:Menlo,'DejaVu Sans Mono',consolas,'Courier New',monospace\"><span style=\"font-weight: bold\">Model: \"sequential\"</span>\n",
       "</pre>\n"
      ],
      "text/plain": [
       "\u001b[1mModel: \"sequential\"\u001b[0m\n"
      ]
     },
     "metadata": {},
     "output_type": "display_data"
    },
    {
     "data": {
      "text/html": [
       "<pre style=\"white-space:pre;overflow-x:auto;line-height:normal;font-family:Menlo,'DejaVu Sans Mono',consolas,'Courier New',monospace\">┏━━━━━━━━━━━━━━━━━━━━━━━━━━━━━━━━━━━━━━┳━━━━━━━━━━━━━━━━━━━━━━━━━━━━━┳━━━━━━━━━━━━━━━━━┓\n",
       "┃<span style=\"font-weight: bold\"> Layer (type)                         </span>┃<span style=\"font-weight: bold\"> Output Shape                </span>┃<span style=\"font-weight: bold\">         Param # </span>┃\n",
       "┡━━━━━━━━━━━━━━━━━━━━━━━━━━━━━━━━━━━━━━╇━━━━━━━━━━━━━━━━━━━━━━━━━━━━━╇━━━━━━━━━━━━━━━━━┩\n",
       "│ dense (<span style=\"color: #0087ff; text-decoration-color: #0087ff\">Dense</span>)                        │ (<span style=\"color: #00d7ff; text-decoration-color: #00d7ff\">None</span>, <span style=\"color: #00af00; text-decoration-color: #00af00\">64</span>)                  │             <span style=\"color: #00af00; text-decoration-color: #00af00\">896</span> │\n",
       "├──────────────────────────────────────┼─────────────────────────────┼─────────────────┤\n",
       "│ dense_1 (<span style=\"color: #0087ff; text-decoration-color: #0087ff\">Dense</span>)                      │ (<span style=\"color: #00d7ff; text-decoration-color: #00d7ff\">None</span>, <span style=\"color: #00af00; text-decoration-color: #00af00\">32</span>)                  │           <span style=\"color: #00af00; text-decoration-color: #00af00\">2,080</span> │\n",
       "├──────────────────────────────────────┼─────────────────────────────┼─────────────────┤\n",
       "│ dense_2 (<span style=\"color: #0087ff; text-decoration-color: #0087ff\">Dense</span>)                      │ (<span style=\"color: #00d7ff; text-decoration-color: #00d7ff\">None</span>, <span style=\"color: #00af00; text-decoration-color: #00af00\">16</span>)                  │             <span style=\"color: #00af00; text-decoration-color: #00af00\">528</span> │\n",
       "├──────────────────────────────────────┼─────────────────────────────┼─────────────────┤\n",
       "│ dense_3 (<span style=\"color: #0087ff; text-decoration-color: #0087ff\">Dense</span>)                      │ (<span style=\"color: #00d7ff; text-decoration-color: #00d7ff\">None</span>, <span style=\"color: #00af00; text-decoration-color: #00af00\">1</span>)                   │              <span style=\"color: #00af00; text-decoration-color: #00af00\">17</span> │\n",
       "└──────────────────────────────────────┴─────────────────────────────┴─────────────────┘\n",
       "</pre>\n"
      ],
      "text/plain": [
       "┏━━━━━━━━━━━━━━━━━━━━━━━━━━━━━━━━━━━━━━┳━━━━━━━━━━━━━━━━━━━━━━━━━━━━━┳━━━━━━━━━━━━━━━━━┓\n",
       "┃\u001b[1m \u001b[0m\u001b[1mLayer (type)                        \u001b[0m\u001b[1m \u001b[0m┃\u001b[1m \u001b[0m\u001b[1mOutput Shape               \u001b[0m\u001b[1m \u001b[0m┃\u001b[1m \u001b[0m\u001b[1m        Param #\u001b[0m\u001b[1m \u001b[0m┃\n",
       "┡━━━━━━━━━━━━━━━━━━━━━━━━━━━━━━━━━━━━━━╇━━━━━━━━━━━━━━━━━━━━━━━━━━━━━╇━━━━━━━━━━━━━━━━━┩\n",
       "│ dense (\u001b[38;5;33mDense\u001b[0m)                        │ (\u001b[38;5;45mNone\u001b[0m, \u001b[38;5;34m64\u001b[0m)                  │             \u001b[38;5;34m896\u001b[0m │\n",
       "├──────────────────────────────────────┼─────────────────────────────┼─────────────────┤\n",
       "│ dense_1 (\u001b[38;5;33mDense\u001b[0m)                      │ (\u001b[38;5;45mNone\u001b[0m, \u001b[38;5;34m32\u001b[0m)                  │           \u001b[38;5;34m2,080\u001b[0m │\n",
       "├──────────────────────────────────────┼─────────────────────────────┼─────────────────┤\n",
       "│ dense_2 (\u001b[38;5;33mDense\u001b[0m)                      │ (\u001b[38;5;45mNone\u001b[0m, \u001b[38;5;34m16\u001b[0m)                  │             \u001b[38;5;34m528\u001b[0m │\n",
       "├──────────────────────────────────────┼─────────────────────────────┼─────────────────┤\n",
       "│ dense_3 (\u001b[38;5;33mDense\u001b[0m)                      │ (\u001b[38;5;45mNone\u001b[0m, \u001b[38;5;34m1\u001b[0m)                   │              \u001b[38;5;34m17\u001b[0m │\n",
       "└──────────────────────────────────────┴─────────────────────────────┴─────────────────┘\n"
      ]
     },
     "metadata": {},
     "output_type": "display_data"
    },
    {
     "data": {
      "text/html": [
       "<pre style=\"white-space:pre;overflow-x:auto;line-height:normal;font-family:Menlo,'DejaVu Sans Mono',consolas,'Courier New',monospace\"><span style=\"font-weight: bold\"> Total params: </span><span style=\"color: #00af00; text-decoration-color: #00af00\">3,521</span> (13.75 KB)\n",
       "</pre>\n"
      ],
      "text/plain": [
       "\u001b[1m Total params: \u001b[0m\u001b[38;5;34m3,521\u001b[0m (13.75 KB)\n"
      ]
     },
     "metadata": {},
     "output_type": "display_data"
    },
    {
     "data": {
      "text/html": [
       "<pre style=\"white-space:pre;overflow-x:auto;line-height:normal;font-family:Menlo,'DejaVu Sans Mono',consolas,'Courier New',monospace\"><span style=\"font-weight: bold\"> Trainable params: </span><span style=\"color: #00af00; text-decoration-color: #00af00\">3,521</span> (13.75 KB)\n",
       "</pre>\n"
      ],
      "text/plain": [
       "\u001b[1m Trainable params: \u001b[0m\u001b[38;5;34m3,521\u001b[0m (13.75 KB)\n"
      ]
     },
     "metadata": {},
     "output_type": "display_data"
    },
    {
     "data": {
      "text/html": [
       "<pre style=\"white-space:pre;overflow-x:auto;line-height:normal;font-family:Menlo,'DejaVu Sans Mono',consolas,'Courier New',monospace\"><span style=\"font-weight: bold\"> Non-trainable params: </span><span style=\"color: #00af00; text-decoration-color: #00af00\">0</span> (0.00 B)\n",
       "</pre>\n"
      ],
      "text/plain": [
       "\u001b[1m Non-trainable params: \u001b[0m\u001b[38;5;34m0\u001b[0m (0.00 B)\n"
      ]
     },
     "metadata": {},
     "output_type": "display_data"
    }
   ],
   "source": [
    "#Building neural network\n",
    "model= Sequential()\n",
    "\n",
    "# Input layer and first hidden layer\n",
    "model.add(Dense(units=64, activation='relu', input_shape=(X_train.shape[1],)))\n",
    "\n",
    "#hidden layers\n",
    "model.add(Dense(units=32, activation='relu'))\n",
    "model.add(Dense(units=16, activation='relu'))\n",
    "\n",
    "# Output layer\n",
    "model.add(Dense(units=1, activation='sigmoid'))\n",
    "model.compile(optimizer='adam', loss='binary_crossentropy', metrics=['accuracy'])\n",
    "model.summary()\n"
   ]
  },
  {
   "cell_type": "code",
   "execution_count": 23,
   "id": "6a7f948b-170b-436d-87a9-c44e363fa58e",
   "metadata": {
    "colab": {
     "base_uri": "https://localhost:8080/"
    },
    "id": "6a7f948b-170b-436d-87a9-c44e363fa58e",
    "outputId": "403b1813-cb93-4534-eae4-771d20497440"
   },
   "outputs": [
    {
     "name": "stdout",
     "output_type": "stream",
     "text": [
      "Epoch 1/50\n",
      "\u001b[1m22/22\u001b[0m \u001b[32m━━━━━━━━━━━━━━━━━━━━\u001b[0m\u001b[37m\u001b[0m \u001b[1m5s\u001b[0m 36ms/step - accuracy: 0.6536 - loss: 5.9725 - val_accuracy: 0.5465 - val_loss: 4.7566\n",
      "Epoch 2/50\n",
      "\u001b[1m22/22\u001b[0m \u001b[32m━━━━━━━━━━━━━━━━━━━━\u001b[0m\u001b[37m\u001b[0m \u001b[1m1s\u001b[0m 21ms/step - accuracy: 0.6940 - loss: 2.9692 - val_accuracy: 0.4186 - val_loss: 1.2439\n",
      "Epoch 3/50\n",
      "\u001b[1m22/22\u001b[0m \u001b[32m━━━━━━━━━━━━━━━━━━━━\u001b[0m\u001b[37m\u001b[0m \u001b[1m0s\u001b[0m 13ms/step - accuracy: 0.6338 - loss: 1.0626 - val_accuracy: 0.5814 - val_loss: 0.9324\n",
      "Epoch 4/50\n",
      "\u001b[1m22/22\u001b[0m \u001b[32m━━━━━━━━━━━━━━━━━━━━\u001b[0m\u001b[37m\u001b[0m \u001b[1m0s\u001b[0m 6ms/step - accuracy: 0.6944 - loss: 0.8148 - val_accuracy: 0.5814 - val_loss: 1.0679\n",
      "Epoch 5/50\n",
      "\u001b[1m22/22\u001b[0m \u001b[32m━━━━━━━━━━━━━━━━━━━━\u001b[0m\u001b[37m\u001b[0m \u001b[1m0s\u001b[0m 8ms/step - accuracy: 0.6753 - loss: 0.7569 - val_accuracy: 0.5349 - val_loss: 1.0670\n",
      "Epoch 6/50\n",
      "\u001b[1m22/22\u001b[0m \u001b[32m━━━━━━━━━━━━━━━━━━━━\u001b[0m\u001b[37m\u001b[0m \u001b[1m0s\u001b[0m 6ms/step - accuracy: 0.7053 - loss: 0.9030 - val_accuracy: 0.6744 - val_loss: 1.8684\n",
      "Epoch 7/50\n",
      "\u001b[1m22/22\u001b[0m \u001b[32m━━━━━━━━━━━━━━━━━━━━\u001b[0m\u001b[37m\u001b[0m \u001b[1m0s\u001b[0m 9ms/step - accuracy: 0.7255 - loss: 0.9679 - val_accuracy: 0.7093 - val_loss: 0.7280\n",
      "Epoch 8/50\n",
      "\u001b[1m22/22\u001b[0m \u001b[32m━━━━━━━━━━━━━━━━━━━━\u001b[0m\u001b[37m\u001b[0m \u001b[1m0s\u001b[0m 19ms/step - accuracy: 0.6761 - loss: 1.4169 - val_accuracy: 0.6163 - val_loss: 1.8371\n",
      "Epoch 9/50\n",
      "\u001b[1m22/22\u001b[0m \u001b[32m━━━━━━━━━━━━━━━━━━━━\u001b[0m\u001b[37m\u001b[0m \u001b[1m0s\u001b[0m 11ms/step - accuracy: 0.7283 - loss: 1.1802 - val_accuracy: 0.6395 - val_loss: 1.0662\n",
      "Epoch 10/50\n",
      "\u001b[1m22/22\u001b[0m \u001b[32m━━━━━━━━━━━━━━━━━━━━\u001b[0m\u001b[37m\u001b[0m \u001b[1m0s\u001b[0m 8ms/step - accuracy: 0.7363 - loss: 0.6696 - val_accuracy: 0.7093 - val_loss: 0.9555\n",
      "Epoch 11/50\n",
      "\u001b[1m22/22\u001b[0m \u001b[32m━━━━━━━━━━━━━━━━━━━━\u001b[0m\u001b[37m\u001b[0m \u001b[1m0s\u001b[0m 9ms/step - accuracy: 0.7517 - loss: 0.5411 - val_accuracy: 0.5814 - val_loss: 1.6397\n",
      "Epoch 12/50\n",
      "\u001b[1m22/22\u001b[0m \u001b[32m━━━━━━━━━━━━━━━━━━━━\u001b[0m\u001b[37m\u001b[0m \u001b[1m1s\u001b[0m 20ms/step - accuracy: 0.6826 - loss: 1.9606 - val_accuracy: 0.5349 - val_loss: 1.3523\n",
      "Epoch 13/50\n",
      "\u001b[1m22/22\u001b[0m \u001b[32m━━━━━━━━━━━━━━━━━━━━\u001b[0m\u001b[37m\u001b[0m \u001b[1m1s\u001b[0m 13ms/step - accuracy: 0.6425 - loss: 1.4809 - val_accuracy: 0.6395 - val_loss: 1.9492\n",
      "Epoch 14/50\n",
      "\u001b[1m22/22\u001b[0m \u001b[32m━━━━━━━━━━━━━━━━━━━━\u001b[0m\u001b[37m\u001b[0m \u001b[1m0s\u001b[0m 19ms/step - accuracy: 0.5881 - loss: 2.1197 - val_accuracy: 0.6047 - val_loss: 1.5908\n",
      "Epoch 15/50\n",
      "\u001b[1m22/22\u001b[0m \u001b[32m━━━━━━━━━━━━━━━━━━━━\u001b[0m\u001b[37m\u001b[0m \u001b[1m0s\u001b[0m 10ms/step - accuracy: 0.6663 - loss: 0.9722 - val_accuracy: 0.6744 - val_loss: 3.0277\n",
      "Epoch 16/50\n",
      "\u001b[1m22/22\u001b[0m \u001b[32m━━━━━━━━━━━━━━━━━━━━\u001b[0m\u001b[37m\u001b[0m \u001b[1m0s\u001b[0m 7ms/step - accuracy: 0.7700 - loss: 1.0872 - val_accuracy: 0.6860 - val_loss: 1.6864\n",
      "Epoch 17/50\n",
      "\u001b[1m22/22\u001b[0m \u001b[32m━━━━━━━━━━━━━━━━━━━━\u001b[0m\u001b[37m\u001b[0m \u001b[1m0s\u001b[0m 7ms/step - accuracy: 0.8162 - loss: 1.0136 - val_accuracy: 0.6977 - val_loss: 0.8391\n",
      "Epoch 18/50\n",
      "\u001b[1m22/22\u001b[0m \u001b[32m━━━━━━━━━━━━━━━━━━━━\u001b[0m\u001b[37m\u001b[0m \u001b[1m0s\u001b[0m 6ms/step - accuracy: 0.7411 - loss: 0.5639 - val_accuracy: 0.7209 - val_loss: 0.7385\n",
      "Epoch 19/50\n",
      "\u001b[1m22/22\u001b[0m \u001b[32m━━━━━━━━━━━━━━━━━━━━\u001b[0m\u001b[37m\u001b[0m \u001b[1m0s\u001b[0m 7ms/step - accuracy: 0.7926 - loss: 0.6329 - val_accuracy: 0.6163 - val_loss: 0.9586\n",
      "Epoch 20/50\n",
      "\u001b[1m22/22\u001b[0m \u001b[32m━━━━━━━━━━━━━━━━━━━━\u001b[0m\u001b[37m\u001b[0m \u001b[1m0s\u001b[0m 18ms/step - accuracy: 0.7453 - loss: 0.5747 - val_accuracy: 0.6744 - val_loss: 1.6334\n",
      "Epoch 21/50\n",
      "\u001b[1m22/22\u001b[0m \u001b[32m━━━━━━━━━━━━━━━━━━━━\u001b[0m\u001b[37m\u001b[0m \u001b[1m0s\u001b[0m 10ms/step - accuracy: 0.7370 - loss: 3.2856 - val_accuracy: 0.6628 - val_loss: 3.2136\n",
      "Epoch 22/50\n",
      "\u001b[1m22/22\u001b[0m \u001b[32m━━━━━━━━━━━━━━━━━━━━\u001b[0m\u001b[37m\u001b[0m \u001b[1m0s\u001b[0m 9ms/step - accuracy: 0.6989 - loss: 1.2154 - val_accuracy: 0.6744 - val_loss: 0.7552\n",
      "Epoch 23/50\n",
      "\u001b[1m22/22\u001b[0m \u001b[32m━━━━━━━━━━━━━━━━━━━━\u001b[0m\u001b[37m\u001b[0m \u001b[1m0s\u001b[0m 13ms/step - accuracy: 0.7721 - loss: 0.5908 - val_accuracy: 0.6395 - val_loss: 0.8821\n",
      "Epoch 24/50\n",
      "\u001b[1m22/22\u001b[0m \u001b[32m━━━━━━━━━━━━━━━━━━━━\u001b[0m\u001b[37m\u001b[0m \u001b[1m1s\u001b[0m 11ms/step - accuracy: 0.6921 - loss: 0.9334 - val_accuracy: 0.6860 - val_loss: 0.7453\n",
      "Epoch 25/50\n",
      "\u001b[1m22/22\u001b[0m \u001b[32m━━━━━━━━━━━━━━━━━━━━\u001b[0m\u001b[37m\u001b[0m \u001b[1m0s\u001b[0m 12ms/step - accuracy: 0.8221 - loss: 0.4728 - val_accuracy: 0.7326 - val_loss: 0.6912\n",
      "Epoch 26/50\n",
      "\u001b[1m22/22\u001b[0m \u001b[32m━━━━━━━━━━━━━━━━━━━━\u001b[0m\u001b[37m\u001b[0m \u001b[1m1s\u001b[0m 11ms/step - accuracy: 0.7992 - loss: 0.5975 - val_accuracy: 0.6628 - val_loss: 0.8666\n",
      "Epoch 27/50\n",
      "\u001b[1m22/22\u001b[0m \u001b[32m━━━━━━━━━━━━━━━━━━━━\u001b[0m\u001b[37m\u001b[0m \u001b[1m1s\u001b[0m 15ms/step - accuracy: 0.7539 - loss: 0.6922 - val_accuracy: 0.6744 - val_loss: 0.7069\n",
      "Epoch 28/50\n",
      "\u001b[1m22/22\u001b[0m \u001b[32m━━━━━━━━━━━━━━━━━━━━\u001b[0m\u001b[37m\u001b[0m \u001b[1m1s\u001b[0m 9ms/step - accuracy: 0.7986 - loss: 0.6641 - val_accuracy: 0.6279 - val_loss: 0.7450\n",
      "Epoch 29/50\n",
      "\u001b[1m22/22\u001b[0m \u001b[32m━━━━━━━━━━━━━━━━━━━━\u001b[0m\u001b[37m\u001b[0m \u001b[1m0s\u001b[0m 7ms/step - accuracy: 0.6207 - loss: 3.7498 - val_accuracy: 0.6512 - val_loss: 6.1628\n",
      "Epoch 30/50\n",
      "\u001b[1m22/22\u001b[0m \u001b[32m━━━━━━━━━━━━━━━━━━━━\u001b[0m\u001b[37m\u001b[0m \u001b[1m0s\u001b[0m 7ms/step - accuracy: 0.6913 - loss: 4.0293 - val_accuracy: 0.6512 - val_loss: 1.3542\n",
      "Epoch 31/50\n",
      "\u001b[1m22/22\u001b[0m \u001b[32m━━━━━━━━━━━━━━━━━━━━\u001b[0m\u001b[37m\u001b[0m \u001b[1m1s\u001b[0m 19ms/step - accuracy: 0.7527 - loss: 0.7756 - val_accuracy: 0.6744 - val_loss: 0.8629\n",
      "Epoch 32/50\n",
      "\u001b[1m22/22\u001b[0m \u001b[32m━━━━━━━━━━━━━━━━━━━━\u001b[0m\u001b[37m\u001b[0m \u001b[1m0s\u001b[0m 9ms/step - accuracy: 0.7756 - loss: 0.6377 - val_accuracy: 0.6744 - val_loss: 0.6878\n",
      "Epoch 33/50\n",
      "\u001b[1m22/22\u001b[0m \u001b[32m━━━━━━━━━━━━━━━━━━━━\u001b[0m\u001b[37m\u001b[0m \u001b[1m0s\u001b[0m 6ms/step - accuracy: 0.8154 - loss: 0.4736 - val_accuracy: 0.5814 - val_loss: 1.1963\n",
      "Epoch 34/50\n",
      "\u001b[1m22/22\u001b[0m \u001b[32m━━━━━━━━━━━━━━━━━━━━\u001b[0m\u001b[37m\u001b[0m \u001b[1m0s\u001b[0m 7ms/step - accuracy: 0.7410 - loss: 0.7056 - val_accuracy: 0.6977 - val_loss: 0.6777\n",
      "Epoch 35/50\n",
      "\u001b[1m22/22\u001b[0m \u001b[32m━━━━━━━━━━━━━━━━━━━━\u001b[0m\u001b[37m\u001b[0m \u001b[1m0s\u001b[0m 6ms/step - accuracy: 0.8033 - loss: 0.5969 - val_accuracy: 0.6977 - val_loss: 2.7027\n",
      "Epoch 36/50\n",
      "\u001b[1m22/22\u001b[0m \u001b[32m━━━━━━━━━━━━━━━━━━━━\u001b[0m\u001b[37m\u001b[0m \u001b[1m0s\u001b[0m 9ms/step - accuracy: 0.7669 - loss: 2.0283 - val_accuracy: 0.5698 - val_loss: 2.5928\n",
      "Epoch 37/50\n",
      "\u001b[1m22/22\u001b[0m \u001b[32m━━━━━━━━━━━━━━━━━━━━\u001b[0m\u001b[37m\u001b[0m \u001b[1m0s\u001b[0m 11ms/step - accuracy: 0.7167 - loss: 2.3125 - val_accuracy: 0.6163 - val_loss: 0.8955\n",
      "Epoch 38/50\n",
      "\u001b[1m22/22\u001b[0m \u001b[32m━━━━━━━━━━━━━━━━━━━━\u001b[0m\u001b[37m\u001b[0m \u001b[1m1s\u001b[0m 18ms/step - accuracy: 0.7718 - loss: 0.7303 - val_accuracy: 0.7093 - val_loss: 1.2999\n",
      "Epoch 39/50\n",
      "\u001b[1m22/22\u001b[0m \u001b[32m━━━━━━━━━━━━━━━━━━━━\u001b[0m\u001b[37m\u001b[0m \u001b[1m0s\u001b[0m 7ms/step - accuracy: 0.7861 - loss: 1.0635 - val_accuracy: 0.7093 - val_loss: 3.4677\n",
      "Epoch 40/50\n",
      "\u001b[1m22/22\u001b[0m \u001b[32m━━━━━━━━━━━━━━━━━━━━\u001b[0m\u001b[37m\u001b[0m \u001b[1m0s\u001b[0m 5ms/step - accuracy: 0.7876 - loss: 1.7151 - val_accuracy: 0.7093 - val_loss: 1.1288\n",
      "Epoch 41/50\n",
      "\u001b[1m22/22\u001b[0m \u001b[32m━━━━━━━━━━━━━━━━━━━━\u001b[0m\u001b[37m\u001b[0m \u001b[1m0s\u001b[0m 5ms/step - accuracy: 0.7543 - loss: 1.2196 - val_accuracy: 0.6977 - val_loss: 0.8418\n",
      "Epoch 42/50\n",
      "\u001b[1m22/22\u001b[0m \u001b[32m━━━━━━━━━━━━━━━━━━━━\u001b[0m\u001b[37m\u001b[0m \u001b[1m0s\u001b[0m 6ms/step - accuracy: 0.8264 - loss: 0.6814 - val_accuracy: 0.7326 - val_loss: 0.7251\n",
      "Epoch 43/50\n",
      "\u001b[1m22/22\u001b[0m \u001b[32m━━━━━━━━━━━━━━━━━━━━\u001b[0m\u001b[37m\u001b[0m \u001b[1m0s\u001b[0m 6ms/step - accuracy: 0.8251 - loss: 0.4686 - val_accuracy: 0.7093 - val_loss: 0.7918\n",
      "Epoch 44/50\n",
      "\u001b[1m22/22\u001b[0m \u001b[32m━━━━━━━━━━━━━━━━━━━━\u001b[0m\u001b[37m\u001b[0m \u001b[1m0s\u001b[0m 5ms/step - accuracy: 0.8145 - loss: 0.4989 - val_accuracy: 0.6977 - val_loss: 0.7636\n",
      "Epoch 45/50\n",
      "\u001b[1m22/22\u001b[0m \u001b[32m━━━━━━━━━━━━━━━━━━━━\u001b[0m\u001b[37m\u001b[0m \u001b[1m0s\u001b[0m 6ms/step - accuracy: 0.7233 - loss: 2.7815 - val_accuracy: 0.6628 - val_loss: 5.3556\n",
      "Epoch 46/50\n",
      "\u001b[1m22/22\u001b[0m \u001b[32m━━━━━━━━━━━━━━━━━━━━\u001b[0m\u001b[37m\u001b[0m \u001b[1m0s\u001b[0m 5ms/step - accuracy: 0.7409 - loss: 2.0492 - val_accuracy: 0.5698 - val_loss: 1.8160\n",
      "Epoch 47/50\n",
      "\u001b[1m22/22\u001b[0m \u001b[32m━━━━━━━━━━━━━━━━━━━━\u001b[0m\u001b[37m\u001b[0m \u001b[1m0s\u001b[0m 6ms/step - accuracy: 0.6800 - loss: 1.3574 - val_accuracy: 0.7093 - val_loss: 1.1935\n",
      "Epoch 48/50\n",
      "\u001b[1m22/22\u001b[0m \u001b[32m━━━━━━━━━━━━━━━━━━━━\u001b[0m\u001b[37m\u001b[0m \u001b[1m0s\u001b[0m 5ms/step - accuracy: 0.6947 - loss: 2.1330 - val_accuracy: 0.7209 - val_loss: 2.0169\n",
      "Epoch 49/50\n",
      "\u001b[1m22/22\u001b[0m \u001b[32m━━━━━━━━━━━━━━━━━━━━\u001b[0m\u001b[37m\u001b[0m \u001b[1m0s\u001b[0m 8ms/step - accuracy: 0.7959 - loss: 1.2088 - val_accuracy: 0.6744 - val_loss: 0.9441\n",
      "Epoch 50/50\n",
      "\u001b[1m22/22\u001b[0m \u001b[32m━━━━━━━━━━━━━━━━━━━━\u001b[0m\u001b[37m\u001b[0m \u001b[1m1s\u001b[0m 18ms/step - accuracy: 0.7831 - loss: 0.5437 - val_accuracy: 0.7326 - val_loss: 0.7784\n"
     ]
    }
   ],
   "source": [
    "#model training\n",
    "history = model.fit(X_train, y_train, epochs=50, batch_size=16, validation_data=(X_test, y_test))"
   ]
  },
  {
   "cell_type": "code",
   "execution_count": 24,
   "id": "780400bc-f932-4ec9-82b8-85151f3a07e1",
   "metadata": {
    "colab": {
     "base_uri": "https://localhost:8080/"
    },
    "id": "780400bc-f932-4ec9-82b8-85151f3a07e1",
    "outputId": "a75233e1-d056-450d-e260-dcf1102a4e82"
   },
   "outputs": [
    {
     "name": "stdout",
     "output_type": "stream",
     "text": [
      "\u001b[1m3/3\u001b[0m \u001b[32m━━━━━━━━━━━━━━━━━━━━\u001b[0m\u001b[37m\u001b[0m \u001b[1m0s\u001b[0m 10ms/step - accuracy: 0.7296 - loss: 0.7139 \n",
      "Test accuracy: 73.26%\n"
     ]
    }
   ],
   "source": [
    "#Accuracy\n",
    "test_loss, test_accuracy = model.evaluate(X_test, y_test)\n",
    "test_accuracy_percentage = test_accuracy * 100\n",
    "print(f'Test accuracy: {test_accuracy_percentage:.2f}%')"
   ]
  },
  {
   "cell_type": "code",
   "execution_count": 25,
   "id": "215302c4-a28a-419a-8816-054e44236318",
   "metadata": {
    "colab": {
     "base_uri": "https://localhost:8080/",
     "height": 927
    },
    "id": "215302c4-a28a-419a-8816-054e44236318",
    "outputId": "8737e5ad-a7f3-4bb6-e86f-643eb1dd548d"
   },
   "outputs": [
    {
     "data": {
      "image/png": "[encoded data removed]",
      "text/plain": [
       "<Figure size 640x480 with 1 Axes>"
      ]
     },
     "metadata": {},
     "output_type": "display_data"
    },
    {
     "data": {
      "image/png": "[encoded data removed]",
      "text/plain": [
       "<Figure size 640x480 with 1 Axes>"
      ]
     },
     "metadata": {},
     "output_type": "display_data"
    }
   ],
   "source": [
    "# Plot training & validation accuracy values\n",
    "plt.plot(history.history['accuracy'])\n",
    "plt.plot(history.history['val_accuracy'])\n",
    "plt.title('Model accuracy')\n",
    "plt.ylabel('Accuracy')\n",
    "plt.xlabel('Epoch')\n",
    "plt.legend(['Train', 'Test'], loc='upper left')\n",
    "plt.show()\n",
    "\n",
    "# Plot training & validation loss values\n",
    "plt.plot(history.history['loss'])\n",
    "plt.plot(history.history['val_loss'])\n",
    "plt.title('Model loss')\n",
    "plt.ylabel('Loss')\n",
    "plt.xlabel('Epoch')\n",
    "plt.legend(['Train', 'Test'], loc='upper left')\n",
    "plt.show()"
   ]
  },
  {
   "cell_type": "code",
   "execution_count": null,
   "id": "be82c506-07c3-43b3-a7ca-a58ac26d17c7",
   "metadata": {
    "id": "be82c506-07c3-43b3-a7ca-a58ac26d17c7"
   },
   "outputs": [],
   "source": []
  }
 ],
 "metadata": {
  "colab": {
   "provenance": []
  },
  "kernelspec": {
   "display_name": "Python 3 (ipykernel)",
   "language": "python",
   "name": "python3"
  },
  "language_info": {
   "codemirror_mode": {
    "name": "ipython",
    "version": 3
   },
   "file_extension": ".py",
   "mimetype": "text/x-python",
   "name": "python",
   "nbconvert_exporter": "python",
   "pygments_lexer": "ipython3",
   "version": "3.11.7"
  }
 },
 "nbformat": 4,
 "nbformat_minor": 5
}
